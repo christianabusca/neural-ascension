{
 "cells": [
  {
   "cell_type": "code",
   "execution_count": null,
   "id": "772ff260",
   "metadata": {},
   "outputs": [],
   "source": [
    "# WORKING WITH STRINGS IN PYTHON\n",
    "# STRINGS\n",
    "\n",
    "# STRINGS CAN BE USED IN SINGLE OR DOUBLE QUOTES\n",
    "# METHOD - FUNCTION THAT IS AVAILABLE IN PARTICULAR DATATYPE\n",
    "# EXAMPLE variable.method()\n",
    "\n",
    "# USING STRING REPLACE METHOD\n",
    "\n",
    "ako = \"Christian Drey S. Abusca\"\n",
    "ako = ako.replace(\"Christian\", \"Siya\")\n",
    "print(ako)\n"
   ]
  }
 ],
 "metadata": {
  "kernelspec": {
   "display_name": "venv (3.11.9)",
   "language": "python",
   "name": "python3"
  },
  "language_info": {
   "name": "python",
   "version": "3.11.9"
  }
 },
 "nbformat": 4,
 "nbformat_minor": 5
}
